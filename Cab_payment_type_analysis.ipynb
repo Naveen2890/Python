{
 "cells": [
  {
   "cell_type": "markdown",
   "id": "e7e10070-9dcd-49ff-8908-040ea0ecebce",
   "metadata": {},
   "source": [
    "# maximizing Revenue for taxi cab drivers through payment type analysis"
   ]
  },
  {
   "cell_type": "markdown",
   "id": "91c90585-572d-4896-b7a0-d20741dc8e00",
   "metadata": {},
   "source": [
    "## Probelem Statment"
   ]
  },
  {
   "cell_type": "markdown",
   "id": "b33c4b89-fe74-4944-bb1e-a45fd0b7e259",
   "metadata": {},
   "source": [
    "##### In the fast-pased taxi booking sector,making the most of revenue is essential for long-term success and driver happiness.Our goal is to use data-driven insights to maximise revenue streams for taxi drivers in order to meet this need.Our research aims is to determine wheather payment methods have an impact on fare pricing by focusing on the relationship between payment type and fare amount."
   ]
  },
  {
   "cell_type": "markdown",
   "id": "ffcb1b75-3296-4dd8-ace1-e7e5e72cb363",
   "metadata": {},
   "source": [
    "### Objective"
   ]
  },
  {
   "cell_type": "markdown",
   "id": "7e0d68d8-06d0-4c79-9543-87ecd1e9738a",
   "metadata": {},
   "source": [
    "This projetc's main goal is to run and A/B test to examine the replationship between the total fare adn the method of payment.We use python hypothesis testing and desccriptive statistics to extract usefeul information that can elp taxi drivers generate more cash. In particular,we want to find out if there is a big difference in the fares for those who pay with credit cards versus those who pay with cash."
   ]
  },
  {
   "cell_type": "markdown",
   "id": "d4a11cc3-06c0-47ad-8e4f-53b9546a09e8",
   "metadata": {},
   "source": [
    "### Reasearch Question"
   ]
  },
  {
   "cell_type": "markdown",
   "id": "7ad6ee6f-963c-4905-b4a1-3b7273a99051",
   "metadata": {},
   "source": [
    "Is there a relationship between total fare amount and payment type and can we nudge customer towards payment method that generate heigher revenue for drivers, without negatively impacting customer experience?"
   ]
  },
  {
   "cell_type": "markdown",
   "id": "f34aa73e-f937-447e-a782-ba0835fd3126",
   "metadata": {},
   "source": [
    "### Importing Libraries"
   ]
  },
  {
   "cell_type": "code",
   "execution_count": 1,
   "id": "af0c3ac9-b225-4b3a-ad4b-fb5c4dd4f911",
   "metadata": {},
   "outputs": [],
   "source": [
    "import pandas as pd\n",
    "import matplotlib.pyplot as plt\n",
    "import seaborn as sns\n",
    "import scipy.stats as st\n",
    "import numpy as np\n",
    "import statsmodels.api as sm\n",
    "import warnings\n",
    "warnings.filterwarnings('ignore')"
   ]
  },
  {
   "cell_type": "markdown",
   "id": "90677886-96de-4216-a47e-4081c9084716",
   "metadata": {},
   "source": [
    "### Loading the dataset"
   ]
  },
  {
   "cell_type": "code",
   "execution_count": 2,
   "id": "93fe1416-318c-40ca-a261-00977464ee02",
   "metadata": {},
   "outputs": [],
   "source": [
    "df=pd.read_csv('yellow_tripdata_2020-01.csv',low_memory=False)"
   ]
  },
  {
   "cell_type": "code",
   "execution_count": 3,
   "id": "91b623b1-0fcc-4eba-8eab-1c2dec8e682e",
   "metadata": {},
   "outputs": [
    {
     "data": {
      "text/html": [
       "<div>\n",
       "<style scoped>\n",
       "    .dataframe tbody tr th:only-of-type {\n",
       "        vertical-align: middle;\n",
       "    }\n",
       "\n",
       "    .dataframe tbody tr th {\n",
       "        vertical-align: top;\n",
       "    }\n",
       "\n",
       "    .dataframe thead th {\n",
       "        text-align: right;\n",
       "    }\n",
       "</style>\n",
       "<table border=\"1\" class=\"dataframe\">\n",
       "  <thead>\n",
       "    <tr style=\"text-align: right;\">\n",
       "      <th></th>\n",
       "      <th>VendorID</th>\n",
       "      <th>tpep_pickup_datetime</th>\n",
       "      <th>tpep_dropoff_datetime</th>\n",
       "      <th>passenger_count</th>\n",
       "      <th>trip_distance</th>\n",
       "      <th>RatecodeID</th>\n",
       "      <th>store_and_fwd_flag</th>\n",
       "      <th>PULocationID</th>\n",
       "      <th>DOLocationID</th>\n",
       "      <th>payment_type</th>\n",
       "      <th>fare_amount</th>\n",
       "      <th>extra</th>\n",
       "      <th>mta_tax</th>\n",
       "      <th>tip_amount</th>\n",
       "      <th>tolls_amount</th>\n",
       "      <th>improvement_surcharge</th>\n",
       "      <th>total_amount</th>\n",
       "      <th>congestion_surcharge</th>\n",
       "    </tr>\n",
       "  </thead>\n",
       "  <tbody>\n",
       "    <tr>\n",
       "      <th>0</th>\n",
       "      <td>1.0</td>\n",
       "      <td>2020-01-01 00:28:15</td>\n",
       "      <td>2020-01-01 00:33:03</td>\n",
       "      <td>1.0</td>\n",
       "      <td>1.2</td>\n",
       "      <td>1.0</td>\n",
       "      <td>N</td>\n",
       "      <td>238</td>\n",
       "      <td>239</td>\n",
       "      <td>1.0</td>\n",
       "      <td>6.0</td>\n",
       "      <td>3.0</td>\n",
       "      <td>0.5</td>\n",
       "      <td>1.47</td>\n",
       "      <td>0.0</td>\n",
       "      <td>0.3</td>\n",
       "      <td>11.27</td>\n",
       "      <td>2.5</td>\n",
       "    </tr>\n",
       "    <tr>\n",
       "      <th>1</th>\n",
       "      <td>1.0</td>\n",
       "      <td>2020-01-01 00:35:39</td>\n",
       "      <td>2020-01-01 00:43:04</td>\n",
       "      <td>1.0</td>\n",
       "      <td>1.2</td>\n",
       "      <td>1.0</td>\n",
       "      <td>N</td>\n",
       "      <td>239</td>\n",
       "      <td>238</td>\n",
       "      <td>1.0</td>\n",
       "      <td>7.0</td>\n",
       "      <td>3.0</td>\n",
       "      <td>0.5</td>\n",
       "      <td>1.50</td>\n",
       "      <td>0.0</td>\n",
       "      <td>0.3</td>\n",
       "      <td>12.30</td>\n",
       "      <td>2.5</td>\n",
       "    </tr>\n",
       "    <tr>\n",
       "      <th>2</th>\n",
       "      <td>1.0</td>\n",
       "      <td>2020-01-01 00:47:41</td>\n",
       "      <td>2020-01-01 00:53:52</td>\n",
       "      <td>1.0</td>\n",
       "      <td>0.6</td>\n",
       "      <td>1.0</td>\n",
       "      <td>N</td>\n",
       "      <td>238</td>\n",
       "      <td>238</td>\n",
       "      <td>1.0</td>\n",
       "      <td>6.0</td>\n",
       "      <td>3.0</td>\n",
       "      <td>0.5</td>\n",
       "      <td>1.00</td>\n",
       "      <td>0.0</td>\n",
       "      <td>0.3</td>\n",
       "      <td>10.80</td>\n",
       "      <td>2.5</td>\n",
       "    </tr>\n",
       "    <tr>\n",
       "      <th>3</th>\n",
       "      <td>1.0</td>\n",
       "      <td>2020-01-01 00:55:23</td>\n",
       "      <td>2020-01-01 01:00:14</td>\n",
       "      <td>1.0</td>\n",
       "      <td>0.8</td>\n",
       "      <td>1.0</td>\n",
       "      <td>N</td>\n",
       "      <td>238</td>\n",
       "      <td>151</td>\n",
       "      <td>1.0</td>\n",
       "      <td>5.5</td>\n",
       "      <td>0.5</td>\n",
       "      <td>0.5</td>\n",
       "      <td>1.36</td>\n",
       "      <td>0.0</td>\n",
       "      <td>0.3</td>\n",
       "      <td>8.16</td>\n",
       "      <td>0.0</td>\n",
       "    </tr>\n",
       "    <tr>\n",
       "      <th>4</th>\n",
       "      <td>2.0</td>\n",
       "      <td>2020-01-01 00:01:58</td>\n",
       "      <td>2020-01-01 00:04:16</td>\n",
       "      <td>1.0</td>\n",
       "      <td>0.0</td>\n",
       "      <td>1.0</td>\n",
       "      <td>N</td>\n",
       "      <td>193</td>\n",
       "      <td>193</td>\n",
       "      <td>2.0</td>\n",
       "      <td>3.5</td>\n",
       "      <td>0.5</td>\n",
       "      <td>0.5</td>\n",
       "      <td>0.00</td>\n",
       "      <td>0.0</td>\n",
       "      <td>0.3</td>\n",
       "      <td>4.80</td>\n",
       "      <td>0.0</td>\n",
       "    </tr>\n",
       "  </tbody>\n",
       "</table>\n",
       "</div>"
      ],
      "text/plain": [
       "   VendorID tpep_pickup_datetime tpep_dropoff_datetime  passenger_count  \\\n",
       "0       1.0  2020-01-01 00:28:15   2020-01-01 00:33:03              1.0   \n",
       "1       1.0  2020-01-01 00:35:39   2020-01-01 00:43:04              1.0   \n",
       "2       1.0  2020-01-01 00:47:41   2020-01-01 00:53:52              1.0   \n",
       "3       1.0  2020-01-01 00:55:23   2020-01-01 01:00:14              1.0   \n",
       "4       2.0  2020-01-01 00:01:58   2020-01-01 00:04:16              1.0   \n",
       "\n",
       "   trip_distance  RatecodeID store_and_fwd_flag  PULocationID  DOLocationID  \\\n",
       "0            1.2         1.0                  N           238           239   \n",
       "1            1.2         1.0                  N           239           238   \n",
       "2            0.6         1.0                  N           238           238   \n",
       "3            0.8         1.0                  N           238           151   \n",
       "4            0.0         1.0                  N           193           193   \n",
       "\n",
       "   payment_type  fare_amount  extra  mta_tax  tip_amount  tolls_amount  \\\n",
       "0           1.0          6.0    3.0      0.5        1.47           0.0   \n",
       "1           1.0          7.0    3.0      0.5        1.50           0.0   \n",
       "2           1.0          6.0    3.0      0.5        1.00           0.0   \n",
       "3           1.0          5.5    0.5      0.5        1.36           0.0   \n",
       "4           2.0          3.5    0.5      0.5        0.00           0.0   \n",
       "\n",
       "   improvement_surcharge  total_amount  congestion_surcharge  \n",
       "0                    0.3         11.27                   2.5  \n",
       "1                    0.3         12.30                   2.5  \n",
       "2                    0.3         10.80                   2.5  \n",
       "3                    0.3          8.16                   0.0  \n",
       "4                    0.3          4.80                   0.0  "
      ]
     },
     "execution_count": 3,
     "metadata": {},
     "output_type": "execute_result"
    }
   ],
   "source": [
    "df.head()"
   ]
  },
  {
   "cell_type": "markdown",
   "id": "0d381218-ba4a-462a-83d4-5862c44bbb34",
   "metadata": {},
   "source": [
    "### EDA"
   ]
  },
  {
   "cell_type": "code",
   "execution_count": 4,
   "id": "8249bd61-4ace-4b5b-894b-5e68f01533e8",
   "metadata": {},
   "outputs": [
    {
     "data": {
      "text/plain": [
       "(6405008, 18)"
      ]
     },
     "execution_count": 4,
     "metadata": {},
     "output_type": "execute_result"
    }
   ],
   "source": [
    "df.shape"
   ]
  },
  {
   "cell_type": "code",
   "execution_count": 5,
   "id": "256d331d-8c19-4f0c-b120-f683d161a944",
   "metadata": {},
   "outputs": [
    {
     "data": {
      "text/plain": [
       "VendorID                 float64\n",
       "tpep_pickup_datetime      object\n",
       "tpep_dropoff_datetime     object\n",
       "passenger_count          float64\n",
       "trip_distance            float64\n",
       "RatecodeID               float64\n",
       "store_and_fwd_flag        object\n",
       "PULocationID               int64\n",
       "DOLocationID               int64\n",
       "payment_type             float64\n",
       "fare_amount              float64\n",
       "extra                    float64\n",
       "mta_tax                  float64\n",
       "tip_amount               float64\n",
       "tolls_amount             float64\n",
       "improvement_surcharge    float64\n",
       "total_amount             float64\n",
       "congestion_surcharge     float64\n",
       "dtype: object"
      ]
     },
     "execution_count": 5,
     "metadata": {},
     "output_type": "execute_result"
    }
   ],
   "source": [
    "df.dtypes"
   ]
  },
  {
   "cell_type": "code",
   "execution_count": 6,
   "id": "35ee0aa1-b013-407b-88d6-652b084dc3f7",
   "metadata": {},
   "outputs": [],
   "source": [
    "df['tpep_pickup_datetime']=pd.to_datetime(df['tpep_pickup_datetime'])\n",
    "df['tpep_dropoff_datetime']=pd.to_datetime(df['tpep_dropoff_datetime'])"
   ]
  },
  {
   "cell_type": "code",
   "execution_count": 7,
   "id": "085b25c4-bd79-416c-927a-9407bd8cf41d",
   "metadata": {},
   "outputs": [],
   "source": [
    "df['duration']=df['tpep_dropoff_datetime']-df['tpep_pickup_datetime']"
   ]
  },
  {
   "cell_type": "code",
   "execution_count": 8,
   "id": "f9e8e7f9-cef0-46ed-8942-15702053d259",
   "metadata": {},
   "outputs": [],
   "source": [
    "df['duration']=df['duration'].dt.total_seconds()/60"
   ]
  },
  {
   "cell_type": "code",
   "execution_count": 9,
   "id": "df2067bb-acc0-4ddb-925e-481be6146a24",
   "metadata": {},
   "outputs": [
    {
     "data": {
      "text/html": [
       "<div>\n",
       "<style scoped>\n",
       "    .dataframe tbody tr th:only-of-type {\n",
       "        vertical-align: middle;\n",
       "    }\n",
       "\n",
       "    .dataframe tbody tr th {\n",
       "        vertical-align: top;\n",
       "    }\n",
       "\n",
       "    .dataframe thead th {\n",
       "        text-align: right;\n",
       "    }\n",
       "</style>\n",
       "<table border=\"1\" class=\"dataframe\">\n",
       "  <thead>\n",
       "    <tr style=\"text-align: right;\">\n",
       "      <th></th>\n",
       "      <th>VendorID</th>\n",
       "      <th>tpep_pickup_datetime</th>\n",
       "      <th>tpep_dropoff_datetime</th>\n",
       "      <th>passenger_count</th>\n",
       "      <th>trip_distance</th>\n",
       "      <th>RatecodeID</th>\n",
       "      <th>store_and_fwd_flag</th>\n",
       "      <th>PULocationID</th>\n",
       "      <th>DOLocationID</th>\n",
       "      <th>payment_type</th>\n",
       "      <th>fare_amount</th>\n",
       "      <th>extra</th>\n",
       "      <th>mta_tax</th>\n",
       "      <th>tip_amount</th>\n",
       "      <th>tolls_amount</th>\n",
       "      <th>improvement_surcharge</th>\n",
       "      <th>total_amount</th>\n",
       "      <th>congestion_surcharge</th>\n",
       "      <th>duration</th>\n",
       "    </tr>\n",
       "  </thead>\n",
       "  <tbody>\n",
       "    <tr>\n",
       "      <th>0</th>\n",
       "      <td>1.0</td>\n",
       "      <td>2020-01-01 00:28:15</td>\n",
       "      <td>2020-01-01 00:33:03</td>\n",
       "      <td>1.0</td>\n",
       "      <td>1.20</td>\n",
       "      <td>1.0</td>\n",
       "      <td>N</td>\n",
       "      <td>238</td>\n",
       "      <td>239</td>\n",
       "      <td>1.0</td>\n",
       "      <td>6.00</td>\n",
       "      <td>3.00</td>\n",
       "      <td>0.5</td>\n",
       "      <td>1.47</td>\n",
       "      <td>0.00</td>\n",
       "      <td>0.3</td>\n",
       "      <td>11.27</td>\n",
       "      <td>2.5</td>\n",
       "      <td>4.800000</td>\n",
       "    </tr>\n",
       "    <tr>\n",
       "      <th>1</th>\n",
       "      <td>1.0</td>\n",
       "      <td>2020-01-01 00:35:39</td>\n",
       "      <td>2020-01-01 00:43:04</td>\n",
       "      <td>1.0</td>\n",
       "      <td>1.20</td>\n",
       "      <td>1.0</td>\n",
       "      <td>N</td>\n",
       "      <td>239</td>\n",
       "      <td>238</td>\n",
       "      <td>1.0</td>\n",
       "      <td>7.00</td>\n",
       "      <td>3.00</td>\n",
       "      <td>0.5</td>\n",
       "      <td>1.50</td>\n",
       "      <td>0.00</td>\n",
       "      <td>0.3</td>\n",
       "      <td>12.30</td>\n",
       "      <td>2.5</td>\n",
       "      <td>7.416667</td>\n",
       "    </tr>\n",
       "    <tr>\n",
       "      <th>2</th>\n",
       "      <td>1.0</td>\n",
       "      <td>2020-01-01 00:47:41</td>\n",
       "      <td>2020-01-01 00:53:52</td>\n",
       "      <td>1.0</td>\n",
       "      <td>0.60</td>\n",
       "      <td>1.0</td>\n",
       "      <td>N</td>\n",
       "      <td>238</td>\n",
       "      <td>238</td>\n",
       "      <td>1.0</td>\n",
       "      <td>6.00</td>\n",
       "      <td>3.00</td>\n",
       "      <td>0.5</td>\n",
       "      <td>1.00</td>\n",
       "      <td>0.00</td>\n",
       "      <td>0.3</td>\n",
       "      <td>10.80</td>\n",
       "      <td>2.5</td>\n",
       "      <td>6.183333</td>\n",
       "    </tr>\n",
       "    <tr>\n",
       "      <th>3</th>\n",
       "      <td>1.0</td>\n",
       "      <td>2020-01-01 00:55:23</td>\n",
       "      <td>2020-01-01 01:00:14</td>\n",
       "      <td>1.0</td>\n",
       "      <td>0.80</td>\n",
       "      <td>1.0</td>\n",
       "      <td>N</td>\n",
       "      <td>238</td>\n",
       "      <td>151</td>\n",
       "      <td>1.0</td>\n",
       "      <td>5.50</td>\n",
       "      <td>0.50</td>\n",
       "      <td>0.5</td>\n",
       "      <td>1.36</td>\n",
       "      <td>0.00</td>\n",
       "      <td>0.3</td>\n",
       "      <td>8.16</td>\n",
       "      <td>0.0</td>\n",
       "      <td>4.850000</td>\n",
       "    </tr>\n",
       "    <tr>\n",
       "      <th>4</th>\n",
       "      <td>2.0</td>\n",
       "      <td>2020-01-01 00:01:58</td>\n",
       "      <td>2020-01-01 00:04:16</td>\n",
       "      <td>1.0</td>\n",
       "      <td>0.00</td>\n",
       "      <td>1.0</td>\n",
       "      <td>N</td>\n",
       "      <td>193</td>\n",
       "      <td>193</td>\n",
       "      <td>2.0</td>\n",
       "      <td>3.50</td>\n",
       "      <td>0.50</td>\n",
       "      <td>0.5</td>\n",
       "      <td>0.00</td>\n",
       "      <td>0.00</td>\n",
       "      <td>0.3</td>\n",
       "      <td>4.80</td>\n",
       "      <td>0.0</td>\n",
       "      <td>2.300000</td>\n",
       "    </tr>\n",
       "    <tr>\n",
       "      <th>...</th>\n",
       "      <td>...</td>\n",
       "      <td>...</td>\n",
       "      <td>...</td>\n",
       "      <td>...</td>\n",
       "      <td>...</td>\n",
       "      <td>...</td>\n",
       "      <td>...</td>\n",
       "      <td>...</td>\n",
       "      <td>...</td>\n",
       "      <td>...</td>\n",
       "      <td>...</td>\n",
       "      <td>...</td>\n",
       "      <td>...</td>\n",
       "      <td>...</td>\n",
       "      <td>...</td>\n",
       "      <td>...</td>\n",
       "      <td>...</td>\n",
       "      <td>...</td>\n",
       "      <td>...</td>\n",
       "    </tr>\n",
       "    <tr>\n",
       "      <th>6405003</th>\n",
       "      <td>NaN</td>\n",
       "      <td>2020-01-31 22:51:00</td>\n",
       "      <td>2020-01-31 23:22:00</td>\n",
       "      <td>NaN</td>\n",
       "      <td>3.24</td>\n",
       "      <td>NaN</td>\n",
       "      <td>NaN</td>\n",
       "      <td>237</td>\n",
       "      <td>234</td>\n",
       "      <td>NaN</td>\n",
       "      <td>17.59</td>\n",
       "      <td>2.75</td>\n",
       "      <td>0.5</td>\n",
       "      <td>0.00</td>\n",
       "      <td>0.00</td>\n",
       "      <td>0.3</td>\n",
       "      <td>21.14</td>\n",
       "      <td>0.0</td>\n",
       "      <td>31.000000</td>\n",
       "    </tr>\n",
       "    <tr>\n",
       "      <th>6405004</th>\n",
       "      <td>NaN</td>\n",
       "      <td>2020-01-31 22:10:00</td>\n",
       "      <td>2020-01-31 23:26:00</td>\n",
       "      <td>NaN</td>\n",
       "      <td>22.13</td>\n",
       "      <td>NaN</td>\n",
       "      <td>NaN</td>\n",
       "      <td>259</td>\n",
       "      <td>45</td>\n",
       "      <td>NaN</td>\n",
       "      <td>46.67</td>\n",
       "      <td>2.75</td>\n",
       "      <td>0.5</td>\n",
       "      <td>0.00</td>\n",
       "      <td>12.24</td>\n",
       "      <td>0.3</td>\n",
       "      <td>62.46</td>\n",
       "      <td>0.0</td>\n",
       "      <td>76.000000</td>\n",
       "    </tr>\n",
       "    <tr>\n",
       "      <th>6405005</th>\n",
       "      <td>NaN</td>\n",
       "      <td>2020-01-31 22:50:07</td>\n",
       "      <td>2020-01-31 23:17:57</td>\n",
       "      <td>NaN</td>\n",
       "      <td>10.51</td>\n",
       "      <td>NaN</td>\n",
       "      <td>NaN</td>\n",
       "      <td>137</td>\n",
       "      <td>169</td>\n",
       "      <td>NaN</td>\n",
       "      <td>48.85</td>\n",
       "      <td>2.75</td>\n",
       "      <td>0.0</td>\n",
       "      <td>0.00</td>\n",
       "      <td>0.00</td>\n",
       "      <td>0.3</td>\n",
       "      <td>51.90</td>\n",
       "      <td>0.0</td>\n",
       "      <td>27.833333</td>\n",
       "    </tr>\n",
       "    <tr>\n",
       "      <th>6405006</th>\n",
       "      <td>NaN</td>\n",
       "      <td>2020-01-31 22:25:53</td>\n",
       "      <td>2020-01-31 22:48:32</td>\n",
       "      <td>NaN</td>\n",
       "      <td>5.49</td>\n",
       "      <td>NaN</td>\n",
       "      <td>NaN</td>\n",
       "      <td>50</td>\n",
       "      <td>42</td>\n",
       "      <td>NaN</td>\n",
       "      <td>27.17</td>\n",
       "      <td>2.75</td>\n",
       "      <td>0.0</td>\n",
       "      <td>0.00</td>\n",
       "      <td>0.00</td>\n",
       "      <td>0.3</td>\n",
       "      <td>30.22</td>\n",
       "      <td>0.0</td>\n",
       "      <td>22.650000</td>\n",
       "    </tr>\n",
       "    <tr>\n",
       "      <th>6405007</th>\n",
       "      <td>NaN</td>\n",
       "      <td>2020-01-31 22:44:00</td>\n",
       "      <td>2020-01-31 23:06:00</td>\n",
       "      <td>NaN</td>\n",
       "      <td>11.60</td>\n",
       "      <td>NaN</td>\n",
       "      <td>NaN</td>\n",
       "      <td>179</td>\n",
       "      <td>205</td>\n",
       "      <td>NaN</td>\n",
       "      <td>54.56</td>\n",
       "      <td>2.75</td>\n",
       "      <td>0.5</td>\n",
       "      <td>0.00</td>\n",
       "      <td>0.00</td>\n",
       "      <td>0.3</td>\n",
       "      <td>58.11</td>\n",
       "      <td>0.0</td>\n",
       "      <td>22.000000</td>\n",
       "    </tr>\n",
       "  </tbody>\n",
       "</table>\n",
       "<p>6405008 rows × 19 columns</p>\n",
       "</div>"
      ],
      "text/plain": [
       "         VendorID tpep_pickup_datetime tpep_dropoff_datetime  passenger_count  \\\n",
       "0             1.0  2020-01-01 00:28:15   2020-01-01 00:33:03              1.0   \n",
       "1             1.0  2020-01-01 00:35:39   2020-01-01 00:43:04              1.0   \n",
       "2             1.0  2020-01-01 00:47:41   2020-01-01 00:53:52              1.0   \n",
       "3             1.0  2020-01-01 00:55:23   2020-01-01 01:00:14              1.0   \n",
       "4             2.0  2020-01-01 00:01:58   2020-01-01 00:04:16              1.0   \n",
       "...           ...                  ...                   ...              ...   \n",
       "6405003       NaN  2020-01-31 22:51:00   2020-01-31 23:22:00              NaN   \n",
       "6405004       NaN  2020-01-31 22:10:00   2020-01-31 23:26:00              NaN   \n",
       "6405005       NaN  2020-01-31 22:50:07   2020-01-31 23:17:57              NaN   \n",
       "6405006       NaN  2020-01-31 22:25:53   2020-01-31 22:48:32              NaN   \n",
       "6405007       NaN  2020-01-31 22:44:00   2020-01-31 23:06:00              NaN   \n",
       "\n",
       "         trip_distance  RatecodeID store_and_fwd_flag  PULocationID  \\\n",
       "0                 1.20         1.0                  N           238   \n",
       "1                 1.20         1.0                  N           239   \n",
       "2                 0.60         1.0                  N           238   \n",
       "3                 0.80         1.0                  N           238   \n",
       "4                 0.00         1.0                  N           193   \n",
       "...                ...         ...                ...           ...   \n",
       "6405003           3.24         NaN                NaN           237   \n",
       "6405004          22.13         NaN                NaN           259   \n",
       "6405005          10.51         NaN                NaN           137   \n",
       "6405006           5.49         NaN                NaN            50   \n",
       "6405007          11.60         NaN                NaN           179   \n",
       "\n",
       "         DOLocationID  payment_type  fare_amount  extra  mta_tax  tip_amount  \\\n",
       "0                 239           1.0         6.00   3.00      0.5        1.47   \n",
       "1                 238           1.0         7.00   3.00      0.5        1.50   \n",
       "2                 238           1.0         6.00   3.00      0.5        1.00   \n",
       "3                 151           1.0         5.50   0.50      0.5        1.36   \n",
       "4                 193           2.0         3.50   0.50      0.5        0.00   \n",
       "...               ...           ...          ...    ...      ...         ...   \n",
       "6405003           234           NaN        17.59   2.75      0.5        0.00   \n",
       "6405004            45           NaN        46.67   2.75      0.5        0.00   \n",
       "6405005           169           NaN        48.85   2.75      0.0        0.00   \n",
       "6405006            42           NaN        27.17   2.75      0.0        0.00   \n",
       "6405007           205           NaN        54.56   2.75      0.5        0.00   \n",
       "\n",
       "         tolls_amount  improvement_surcharge  total_amount  \\\n",
       "0                0.00                    0.3         11.27   \n",
       "1                0.00                    0.3         12.30   \n",
       "2                0.00                    0.3         10.80   \n",
       "3                0.00                    0.3          8.16   \n",
       "4                0.00                    0.3          4.80   \n",
       "...               ...                    ...           ...   \n",
       "6405003          0.00                    0.3         21.14   \n",
       "6405004         12.24                    0.3         62.46   \n",
       "6405005          0.00                    0.3         51.90   \n",
       "6405006          0.00                    0.3         30.22   \n",
       "6405007          0.00                    0.3         58.11   \n",
       "\n",
       "         congestion_surcharge   duration  \n",
       "0                         2.5   4.800000  \n",
       "1                         2.5   7.416667  \n",
       "2                         2.5   6.183333  \n",
       "3                         0.0   4.850000  \n",
       "4                         0.0   2.300000  \n",
       "...                       ...        ...  \n",
       "6405003                   0.0  31.000000  \n",
       "6405004                   0.0  76.000000  \n",
       "6405005                   0.0  27.833333  \n",
       "6405006                   0.0  22.650000  \n",
       "6405007                   0.0  22.000000  \n",
       "\n",
       "[6405008 rows x 19 columns]"
      ]
     },
     "execution_count": 9,
     "metadata": {},
     "output_type": "execute_result"
    }
   ],
   "source": [
    "df"
   ]
  },
  {
   "cell_type": "code",
   "execution_count": 10,
   "id": "70dbc602-0d36-405e-89d7-54648e2eb357",
   "metadata": {},
   "outputs": [],
   "source": [
    "dff=df[['passenger_count','payment_type','fare_amount','trip_distance','duration']]"
   ]
  },
  {
   "cell_type": "code",
   "execution_count": 11,
   "id": "b7e20f8b-4de3-4f43-aaa1-c72c9c4d3fb4",
   "metadata": {},
   "outputs": [
    {
     "data": {
      "text/html": [
       "<div>\n",
       "<style scoped>\n",
       "    .dataframe tbody tr th:only-of-type {\n",
       "        vertical-align: middle;\n",
       "    }\n",
       "\n",
       "    .dataframe tbody tr th {\n",
       "        vertical-align: top;\n",
       "    }\n",
       "\n",
       "    .dataframe thead th {\n",
       "        text-align: right;\n",
       "    }\n",
       "</style>\n",
       "<table border=\"1\" class=\"dataframe\">\n",
       "  <thead>\n",
       "    <tr style=\"text-align: right;\">\n",
       "      <th></th>\n",
       "      <th>passenger_count</th>\n",
       "      <th>payment_type</th>\n",
       "      <th>fare_amount</th>\n",
       "      <th>trip_distance</th>\n",
       "      <th>duration</th>\n",
       "    </tr>\n",
       "  </thead>\n",
       "  <tbody>\n",
       "    <tr>\n",
       "      <th>0</th>\n",
       "      <td>1.0</td>\n",
       "      <td>1.0</td>\n",
       "      <td>6.00</td>\n",
       "      <td>1.20</td>\n",
       "      <td>4.800000</td>\n",
       "    </tr>\n",
       "    <tr>\n",
       "      <th>1</th>\n",
       "      <td>1.0</td>\n",
       "      <td>1.0</td>\n",
       "      <td>7.00</td>\n",
       "      <td>1.20</td>\n",
       "      <td>7.416667</td>\n",
       "    </tr>\n",
       "    <tr>\n",
       "      <th>2</th>\n",
       "      <td>1.0</td>\n",
       "      <td>1.0</td>\n",
       "      <td>6.00</td>\n",
       "      <td>0.60</td>\n",
       "      <td>6.183333</td>\n",
       "    </tr>\n",
       "    <tr>\n",
       "      <th>3</th>\n",
       "      <td>1.0</td>\n",
       "      <td>1.0</td>\n",
       "      <td>5.50</td>\n",
       "      <td>0.80</td>\n",
       "      <td>4.850000</td>\n",
       "    </tr>\n",
       "    <tr>\n",
       "      <th>4</th>\n",
       "      <td>1.0</td>\n",
       "      <td>2.0</td>\n",
       "      <td>3.50</td>\n",
       "      <td>0.00</td>\n",
       "      <td>2.300000</td>\n",
       "    </tr>\n",
       "    <tr>\n",
       "      <th>...</th>\n",
       "      <td>...</td>\n",
       "      <td>...</td>\n",
       "      <td>...</td>\n",
       "      <td>...</td>\n",
       "      <td>...</td>\n",
       "    </tr>\n",
       "    <tr>\n",
       "      <th>6405003</th>\n",
       "      <td>NaN</td>\n",
       "      <td>NaN</td>\n",
       "      <td>17.59</td>\n",
       "      <td>3.24</td>\n",
       "      <td>31.000000</td>\n",
       "    </tr>\n",
       "    <tr>\n",
       "      <th>6405004</th>\n",
       "      <td>NaN</td>\n",
       "      <td>NaN</td>\n",
       "      <td>46.67</td>\n",
       "      <td>22.13</td>\n",
       "      <td>76.000000</td>\n",
       "    </tr>\n",
       "    <tr>\n",
       "      <th>6405005</th>\n",
       "      <td>NaN</td>\n",
       "      <td>NaN</td>\n",
       "      <td>48.85</td>\n",
       "      <td>10.51</td>\n",
       "      <td>27.833333</td>\n",
       "    </tr>\n",
       "    <tr>\n",
       "      <th>6405006</th>\n",
       "      <td>NaN</td>\n",
       "      <td>NaN</td>\n",
       "      <td>27.17</td>\n",
       "      <td>5.49</td>\n",
       "      <td>22.650000</td>\n",
       "    </tr>\n",
       "    <tr>\n",
       "      <th>6405007</th>\n",
       "      <td>NaN</td>\n",
       "      <td>NaN</td>\n",
       "      <td>54.56</td>\n",
       "      <td>11.60</td>\n",
       "      <td>22.000000</td>\n",
       "    </tr>\n",
       "  </tbody>\n",
       "</table>\n",
       "<p>6405008 rows × 5 columns</p>\n",
       "</div>"
      ],
      "text/plain": [
       "         passenger_count  payment_type  fare_amount  trip_distance   duration\n",
       "0                    1.0           1.0         6.00           1.20   4.800000\n",
       "1                    1.0           1.0         7.00           1.20   7.416667\n",
       "2                    1.0           1.0         6.00           0.60   6.183333\n",
       "3                    1.0           1.0         5.50           0.80   4.850000\n",
       "4                    1.0           2.0         3.50           0.00   2.300000\n",
       "...                  ...           ...          ...            ...        ...\n",
       "6405003              NaN           NaN        17.59           3.24  31.000000\n",
       "6405004              NaN           NaN        46.67          22.13  76.000000\n",
       "6405005              NaN           NaN        48.85          10.51  27.833333\n",
       "6405006              NaN           NaN        27.17           5.49  22.650000\n",
       "6405007              NaN           NaN        54.56          11.60  22.000000\n",
       "\n",
       "[6405008 rows x 5 columns]"
      ]
     },
     "execution_count": 11,
     "metadata": {},
     "output_type": "execute_result"
    }
   ],
   "source": [
    "dff"
   ]
  },
  {
   "cell_type": "markdown",
   "id": "e6c03042-1273-418e-8a70-6168a9c3e843",
   "metadata": {},
   "source": [
    "##### check missing value"
   ]
  },
  {
   "cell_type": "code",
   "execution_count": 12,
   "id": "17686da6-0399-45c4-9748-d005fdd9c386",
   "metadata": {},
   "outputs": [
    {
     "data": {
      "text/plain": [
       "passenger_count    65441\n",
       "payment_type       65441\n",
       "fare_amount            0\n",
       "trip_distance          0\n",
       "duration               0\n",
       "dtype: int64"
      ]
     },
     "execution_count": 12,
     "metadata": {},
     "output_type": "execute_result"
    }
   ],
   "source": [
    "dff.isnull().sum()"
   ]
  },
  {
   "cell_type": "code",
   "execution_count": 13,
   "id": "cbd6703f-eb10-4417-bcf3-bafd87b09edc",
   "metadata": {},
   "outputs": [
    {
     "data": {
      "text/plain": [
       "1.021716132126611"
      ]
     },
     "execution_count": 13,
     "metadata": {},
     "output_type": "execute_result"
    }
   ],
   "source": [
    "65441/len(dff)*100"
   ]
  },
  {
   "cell_type": "code",
   "execution_count": 14,
   "id": "0d64a202-d711-494b-946c-f5814844cc24",
   "metadata": {},
   "outputs": [
    {
     "data": {
      "text/plain": [
       "6405008"
      ]
     },
     "execution_count": 14,
     "metadata": {},
     "output_type": "execute_result"
    }
   ],
   "source": [
    "len(dff)"
   ]
  },
  {
   "cell_type": "code",
   "execution_count": 15,
   "id": "d58cb300-ade4-4689-9f80-109486d1e14c",
   "metadata": {},
   "outputs": [],
   "source": [
    "#drop null vlues\n",
    "dff=dff.copy()\n",
    "dff.dropna(inplace=True)"
   ]
  },
  {
   "cell_type": "code",
   "execution_count": 16,
   "id": "32b555b2-b7ec-4460-8cea-528eeee9b7cf",
   "metadata": {},
   "outputs": [
    {
     "data": {
      "text/html": [
       "<div>\n",
       "<style scoped>\n",
       "    .dataframe tbody tr th:only-of-type {\n",
       "        vertical-align: middle;\n",
       "    }\n",
       "\n",
       "    .dataframe tbody tr th {\n",
       "        vertical-align: top;\n",
       "    }\n",
       "\n",
       "    .dataframe thead th {\n",
       "        text-align: right;\n",
       "    }\n",
       "</style>\n",
       "<table border=\"1\" class=\"dataframe\">\n",
       "  <thead>\n",
       "    <tr style=\"text-align: right;\">\n",
       "      <th></th>\n",
       "      <th>passenger_count</th>\n",
       "      <th>payment_type</th>\n",
       "      <th>fare_amount</th>\n",
       "      <th>trip_distance</th>\n",
       "      <th>duration</th>\n",
       "    </tr>\n",
       "  </thead>\n",
       "  <tbody>\n",
       "    <tr>\n",
       "      <th>0</th>\n",
       "      <td>1.0</td>\n",
       "      <td>1.0</td>\n",
       "      <td>6.0</td>\n",
       "      <td>1.20</td>\n",
       "      <td>4.800000</td>\n",
       "    </tr>\n",
       "    <tr>\n",
       "      <th>1</th>\n",
       "      <td>1.0</td>\n",
       "      <td>1.0</td>\n",
       "      <td>7.0</td>\n",
       "      <td>1.20</td>\n",
       "      <td>7.416667</td>\n",
       "    </tr>\n",
       "    <tr>\n",
       "      <th>2</th>\n",
       "      <td>1.0</td>\n",
       "      <td>1.0</td>\n",
       "      <td>6.0</td>\n",
       "      <td>0.60</td>\n",
       "      <td>6.183333</td>\n",
       "    </tr>\n",
       "    <tr>\n",
       "      <th>3</th>\n",
       "      <td>1.0</td>\n",
       "      <td>1.0</td>\n",
       "      <td>5.5</td>\n",
       "      <td>0.80</td>\n",
       "      <td>4.850000</td>\n",
       "    </tr>\n",
       "    <tr>\n",
       "      <th>4</th>\n",
       "      <td>1.0</td>\n",
       "      <td>2.0</td>\n",
       "      <td>3.5</td>\n",
       "      <td>0.00</td>\n",
       "      <td>2.300000</td>\n",
       "    </tr>\n",
       "    <tr>\n",
       "      <th>...</th>\n",
       "      <td>...</td>\n",
       "      <td>...</td>\n",
       "      <td>...</td>\n",
       "      <td>...</td>\n",
       "      <td>...</td>\n",
       "    </tr>\n",
       "    <tr>\n",
       "      <th>6339562</th>\n",
       "      <td>1.0</td>\n",
       "      <td>1.0</td>\n",
       "      <td>11.0</td>\n",
       "      <td>2.10</td>\n",
       "      <td>14.233333</td>\n",
       "    </tr>\n",
       "    <tr>\n",
       "      <th>6339563</th>\n",
       "      <td>1.0</td>\n",
       "      <td>1.0</td>\n",
       "      <td>13.0</td>\n",
       "      <td>2.13</td>\n",
       "      <td>19.000000</td>\n",
       "    </tr>\n",
       "    <tr>\n",
       "      <th>6339564</th>\n",
       "      <td>1.0</td>\n",
       "      <td>1.0</td>\n",
       "      <td>12.5</td>\n",
       "      <td>2.55</td>\n",
       "      <td>16.283333</td>\n",
       "    </tr>\n",
       "    <tr>\n",
       "      <th>6339565</th>\n",
       "      <td>1.0</td>\n",
       "      <td>2.0</td>\n",
       "      <td>8.5</td>\n",
       "      <td>1.61</td>\n",
       "      <td>9.633333</td>\n",
       "    </tr>\n",
       "    <tr>\n",
       "      <th>6339566</th>\n",
       "      <td>1.0</td>\n",
       "      <td>1.0</td>\n",
       "      <td>0.0</td>\n",
       "      <td>0.00</td>\n",
       "      <td>1.066667</td>\n",
       "    </tr>\n",
       "  </tbody>\n",
       "</table>\n",
       "<p>6339567 rows × 5 columns</p>\n",
       "</div>"
      ],
      "text/plain": [
       "         passenger_count  payment_type  fare_amount  trip_distance   duration\n",
       "0                    1.0           1.0          6.0           1.20   4.800000\n",
       "1                    1.0           1.0          7.0           1.20   7.416667\n",
       "2                    1.0           1.0          6.0           0.60   6.183333\n",
       "3                    1.0           1.0          5.5           0.80   4.850000\n",
       "4                    1.0           2.0          3.5           0.00   2.300000\n",
       "...                  ...           ...          ...            ...        ...\n",
       "6339562              1.0           1.0         11.0           2.10  14.233333\n",
       "6339563              1.0           1.0         13.0           2.13  19.000000\n",
       "6339564              1.0           1.0         12.5           2.55  16.283333\n",
       "6339565              1.0           2.0          8.5           1.61   9.633333\n",
       "6339566              1.0           1.0          0.0           0.00   1.066667\n",
       "\n",
       "[6339567 rows x 5 columns]"
      ]
     },
     "execution_count": 16,
     "metadata": {},
     "output_type": "execute_result"
    }
   ],
   "source": [
    "dff"
   ]
  },
  {
   "cell_type": "code",
   "execution_count": 17,
   "id": "5e1cd739-0f2a-4dc3-b6bf-239e7afbaebe",
   "metadata": {},
   "outputs": [
    {
     "data": {
      "text/plain": [
       "passenger_count    0\n",
       "payment_type       0\n",
       "fare_amount        0\n",
       "trip_distance      0\n",
       "duration           0\n",
       "dtype: int64"
      ]
     },
     "execution_count": 17,
     "metadata": {},
     "output_type": "execute_result"
    }
   ],
   "source": [
    "dff.isnull().sum()"
   ]
  },
  {
   "cell_type": "code",
   "execution_count": 18,
   "id": "ced8f3c9-fc65-4f09-9ea8-cdb70001f96b",
   "metadata": {},
   "outputs": [
    {
     "name": "stdout",
     "output_type": "stream",
     "text": [
      "[1. 2. 4. 3. 5.]\n",
      "0\n"
     ]
    }
   ],
   "source": [
    "#dff['payment_type'].dtype\n",
    "print(dff['payment_type'].unique())\n",
    "print(dff['payment_type'].isna().sum())"
   ]
  },
  {
   "cell_type": "code",
   "execution_count": 79,
   "id": "e3f883c7-1b57-477f-92bd-0a18c1fd460c",
   "metadata": {},
   "outputs": [
    {
     "data": {
      "text/plain": [
       "payment_type    object\n",
       "1               object\n",
       "2               object\n",
       "3               object\n",
       "4               object\n",
       "5               object\n",
       "dtype: object"
      ]
     },
     "execution_count": 79,
     "metadata": {},
     "output_type": "execute_result"
    }
   ],
   "source": [
    "dff.dtypes"
   ]
  },
  {
   "cell_type": "code",
   "execution_count": 19,
   "id": "f8df004c-6037-4b9b-a6dc-2f5dea52a038",
   "metadata": {},
   "outputs": [],
   "source": [
    "#arr=np.isinf(dff['payment_type']).sum()\n",
    "# Option 1: Drop rows with NaN values\n",
    "dff.dropna(subset=['passenger_count'], inplace=True)\n",
    "\n",
    "# Option 2: Fill NaN values with a default value (e.g., 0)\n",
    "dff['passenger_count'].fillna(0, inplace=True)"
   ]
  },
  {
   "cell_type": "code",
   "execution_count": 82,
   "id": "02ae1f8c-a3a5-4ae7-bbdf-44a84fdc4e10",
   "metadata": {},
   "outputs": [
    {
     "data": {
      "text/html": [
       "<div>\n",
       "<style scoped>\n",
       "    .dataframe tbody tr th:only-of-type {\n",
       "        vertical-align: middle;\n",
       "    }\n",
       "\n",
       "    .dataframe tbody tr th {\n",
       "        vertical-align: top;\n",
       "    }\n",
       "\n",
       "    .dataframe thead th {\n",
       "        text-align: right;\n",
       "    }\n",
       "</style>\n",
       "<table border=\"1\" class=\"dataframe\">\n",
       "  <thead>\n",
       "    <tr style=\"text-align: right;\">\n",
       "      <th></th>\n",
       "      <th>payment_type</th>\n",
       "      <th>1</th>\n",
       "      <th>2</th>\n",
       "      <th>3</th>\n",
       "      <th>4</th>\n",
       "      <th>5</th>\n",
       "    </tr>\n",
       "  </thead>\n",
       "  <tbody>\n",
       "  </tbody>\n",
       "</table>\n",
       "</div>"
      ],
      "text/plain": [
       "Empty DataFrame\n",
       "Columns: [payment_type, 1, 2, 3, 4, 5]\n",
       "Index: []"
      ]
     },
     "execution_count": 82,
     "metadata": {},
     "output_type": "execute_result"
    }
   ],
   "source": [
    "dff[dff.duplicated()]"
   ]
  },
  {
   "cell_type": "code",
   "execution_count": 20,
   "id": "9a63a838-6cc8-4ed0-94f6-8dba4c27e6c7",
   "metadata": {},
   "outputs": [],
   "source": [
    "dff.drop_duplicates(inplace=True)"
   ]
  },
  {
   "cell_type": "code",
   "execution_count": 21,
   "id": "e5fd912f-5ca6-4f1e-a535-7b6469a8f6a1",
   "metadata": {},
   "outputs": [
    {
     "data": {
      "text/plain": [
       "(3007861, 5)"
      ]
     },
     "execution_count": 21,
     "metadata": {},
     "output_type": "execute_result"
    }
   ],
   "source": [
    "dff.shape"
   ]
  },
  {
   "cell_type": "code",
   "execution_count": 22,
   "id": "e78ec27f-c93a-46ab-ba77-dced6f7007b6",
   "metadata": {},
   "outputs": [
    {
     "data": {
      "text/plain": [
       "passenger_count\n",
       "1.0    4547226\n",
       "2.0     946423\n",
       "3.0     250234\n",
       "5.0     225693\n",
       "6.0     132154\n",
       "4.0     123470\n",
       "0.0     114302\n",
       "7.0         29\n",
       "9.0         19\n",
       "8.0         17\n",
       "Name: count, dtype: int64"
      ]
     },
     "execution_count": 22,
     "metadata": {},
     "output_type": "execute_result"
    }
   ],
   "source": [
    "df['passenger_count'].value_counts()"
   ]
  },
  {
   "cell_type": "code",
   "execution_count": 23,
   "id": "3e531488-54ab-4f0a-bb2f-293fac1d7d11",
   "metadata": {},
   "outputs": [
    {
     "data": {
      "text/plain": [
       "np.int64(0)"
      ]
     },
     "execution_count": 23,
     "metadata": {},
     "output_type": "execute_result"
    }
   ],
   "source": [
    "dff['payment_type'].isna().sum()"
   ]
  },
  {
   "cell_type": "code",
   "execution_count": 25,
   "id": "f11798d3-6c0b-414e-95d7-1b7355bdf9e8",
   "metadata": {},
   "outputs": [
    {
     "data": {
      "text/plain": [
       "passenger_count\n",
       "1.0    0.581981\n",
       "2.0    0.190350\n",
       "3.0    0.066360\n",
       "5.0    0.062937\n",
       "6.0    0.039272\n",
       "4.0    0.036046\n",
       "0.0    0.023033\n",
       "7.0    0.000009\n",
       "9.0    0.000006\n",
       "8.0    0.000006\n",
       "Name: proportion, dtype: float64"
      ]
     },
     "execution_count": 25,
     "metadata": {},
     "output_type": "execute_result"
    }
   ],
   "source": [
    "dff['passenger_count'].value_counts(normalize=True)"
   ]
  },
  {
   "cell_type": "code",
   "execution_count": 26,
   "id": "b18fc93b-c989-4a43-b3fb-f7e150d58a9d",
   "metadata": {},
   "outputs": [
    {
     "data": {
      "text/plain": [
       "payment_type\n",
       "1.0    2040133\n",
       "2.0     925137\n",
       "3.0      26233\n",
       "4.0      16357\n",
       "5.0          1\n",
       "Name: count, dtype: int64"
      ]
     },
     "execution_count": 26,
     "metadata": {},
     "output_type": "execute_result"
    }
   ],
   "source": [
    "dff['payment_type'].value_counts()"
   ]
  },
  {
   "cell_type": "code",
   "execution_count": 27,
   "id": "d69f3132-b8d6-4c94-b2e8-291f7838ceaa",
   "metadata": {},
   "outputs": [],
   "source": [
    "dff=dff[dff['payment_type']<3]\n",
    "dff=dff[(dff['passenger_count']>0) & (dff['passenger_count']<6)]"
   ]
  },
  {
   "cell_type": "code",
   "execution_count": 28,
   "id": "0bbe6e54-a949-4a87-b697-090e68d7eca7",
   "metadata": {},
   "outputs": [
    {
     "data": {
      "text/plain": [
       "(2780283, 5)"
      ]
     },
     "execution_count": 28,
     "metadata": {},
     "output_type": "execute_result"
    }
   ],
   "source": [
    "dff.shape"
   ]
  },
  {
   "cell_type": "code",
   "execution_count": 29,
   "id": "afba22d8-f941-4719-812f-749f9a06135a",
   "metadata": {},
   "outputs": [],
   "source": [
    "dff['payment_type'].replace([1,2],['Card','Cash'],inplace=True)"
   ]
  },
  {
   "cell_type": "code",
   "execution_count": 30,
   "id": "88a2d4d3-de54-4639-a3b5-4c0e4dcad266",
   "metadata": {},
   "outputs": [
    {
     "data": {
      "text/html": [
       "<div>\n",
       "<style scoped>\n",
       "    .dataframe tbody tr th:only-of-type {\n",
       "        vertical-align: middle;\n",
       "    }\n",
       "\n",
       "    .dataframe tbody tr th {\n",
       "        vertical-align: top;\n",
       "    }\n",
       "\n",
       "    .dataframe thead th {\n",
       "        text-align: right;\n",
       "    }\n",
       "</style>\n",
       "<table border=\"1\" class=\"dataframe\">\n",
       "  <thead>\n",
       "    <tr style=\"text-align: right;\">\n",
       "      <th></th>\n",
       "      <th>passenger_count</th>\n",
       "      <th>payment_type</th>\n",
       "      <th>fare_amount</th>\n",
       "      <th>trip_distance</th>\n",
       "      <th>duration</th>\n",
       "    </tr>\n",
       "  </thead>\n",
       "  <tbody>\n",
       "    <tr>\n",
       "      <th>0</th>\n",
       "      <td>1.0</td>\n",
       "      <td>Card</td>\n",
       "      <td>6.0</td>\n",
       "      <td>1.20</td>\n",
       "      <td>4.800000</td>\n",
       "    </tr>\n",
       "    <tr>\n",
       "      <th>1</th>\n",
       "      <td>1.0</td>\n",
       "      <td>Card</td>\n",
       "      <td>7.0</td>\n",
       "      <td>1.20</td>\n",
       "      <td>7.416667</td>\n",
       "    </tr>\n",
       "    <tr>\n",
       "      <th>2</th>\n",
       "      <td>1.0</td>\n",
       "      <td>Card</td>\n",
       "      <td>6.0</td>\n",
       "      <td>0.60</td>\n",
       "      <td>6.183333</td>\n",
       "    </tr>\n",
       "    <tr>\n",
       "      <th>3</th>\n",
       "      <td>1.0</td>\n",
       "      <td>Card</td>\n",
       "      <td>5.5</td>\n",
       "      <td>0.80</td>\n",
       "      <td>4.850000</td>\n",
       "    </tr>\n",
       "    <tr>\n",
       "      <th>4</th>\n",
       "      <td>1.0</td>\n",
       "      <td>Cash</td>\n",
       "      <td>3.5</td>\n",
       "      <td>0.00</td>\n",
       "      <td>2.300000</td>\n",
       "    </tr>\n",
       "    <tr>\n",
       "      <th>...</th>\n",
       "      <td>...</td>\n",
       "      <td>...</td>\n",
       "      <td>...</td>\n",
       "      <td>...</td>\n",
       "      <td>...</td>\n",
       "    </tr>\n",
       "    <tr>\n",
       "      <th>6339555</th>\n",
       "      <td>3.0</td>\n",
       "      <td>Card</td>\n",
       "      <td>10.0</td>\n",
       "      <td>2.09</td>\n",
       "      <td>14.800000</td>\n",
       "    </tr>\n",
       "    <tr>\n",
       "      <th>6339561</th>\n",
       "      <td>1.0</td>\n",
       "      <td>Card</td>\n",
       "      <td>17.5</td>\n",
       "      <td>4.11</td>\n",
       "      <td>21.500000</td>\n",
       "    </tr>\n",
       "    <tr>\n",
       "      <th>6339563</th>\n",
       "      <td>1.0</td>\n",
       "      <td>Card</td>\n",
       "      <td>13.0</td>\n",
       "      <td>2.13</td>\n",
       "      <td>19.000000</td>\n",
       "    </tr>\n",
       "    <tr>\n",
       "      <th>6339564</th>\n",
       "      <td>1.0</td>\n",
       "      <td>Card</td>\n",
       "      <td>12.5</td>\n",
       "      <td>2.55</td>\n",
       "      <td>16.283333</td>\n",
       "    </tr>\n",
       "    <tr>\n",
       "      <th>6339566</th>\n",
       "      <td>1.0</td>\n",
       "      <td>Card</td>\n",
       "      <td>0.0</td>\n",
       "      <td>0.00</td>\n",
       "      <td>1.066667</td>\n",
       "    </tr>\n",
       "  </tbody>\n",
       "</table>\n",
       "<p>2780283 rows × 5 columns</p>\n",
       "</div>"
      ],
      "text/plain": [
       "         passenger_count payment_type  fare_amount  trip_distance   duration\n",
       "0                    1.0         Card          6.0           1.20   4.800000\n",
       "1                    1.0         Card          7.0           1.20   7.416667\n",
       "2                    1.0         Card          6.0           0.60   6.183333\n",
       "3                    1.0         Card          5.5           0.80   4.850000\n",
       "4                    1.0         Cash          3.5           0.00   2.300000\n",
       "...                  ...          ...          ...            ...        ...\n",
       "6339555              3.0         Card         10.0           2.09  14.800000\n",
       "6339561              1.0         Card         17.5           4.11  21.500000\n",
       "6339563              1.0         Card         13.0           2.13  19.000000\n",
       "6339564              1.0         Card         12.5           2.55  16.283333\n",
       "6339566              1.0         Card          0.0           0.00   1.066667\n",
       "\n",
       "[2780283 rows x 5 columns]"
      ]
     },
     "execution_count": 30,
     "metadata": {},
     "output_type": "execute_result"
    }
   ],
   "source": [
    "dff"
   ]
  },
  {
   "cell_type": "code",
   "execution_count": 31,
   "id": "707201dc-b083-42fa-9eec-bcc43fa15721",
   "metadata": {},
   "outputs": [
    {
     "data": {
      "text/html": [
       "<div>\n",
       "<style scoped>\n",
       "    .dataframe tbody tr th:only-of-type {\n",
       "        vertical-align: middle;\n",
       "    }\n",
       "\n",
       "    .dataframe tbody tr th {\n",
       "        vertical-align: top;\n",
       "    }\n",
       "\n",
       "    .dataframe thead th {\n",
       "        text-align: right;\n",
       "    }\n",
       "</style>\n",
       "<table border=\"1\" class=\"dataframe\">\n",
       "  <thead>\n",
       "    <tr style=\"text-align: right;\">\n",
       "      <th></th>\n",
       "      <th>passenger_count</th>\n",
       "      <th>fare_amount</th>\n",
       "      <th>trip_distance</th>\n",
       "      <th>duration</th>\n",
       "    </tr>\n",
       "  </thead>\n",
       "  <tbody>\n",
       "    <tr>\n",
       "      <th>count</th>\n",
       "      <td>2.780283e+06</td>\n",
       "      <td>2.780283e+06</td>\n",
       "      <td>2.780283e+06</td>\n",
       "      <td>2.780283e+06</td>\n",
       "    </tr>\n",
       "    <tr>\n",
       "      <th>mean</th>\n",
       "      <td>1.733386e+00</td>\n",
       "      <td>1.780567e+01</td>\n",
       "      <td>4.536729e+00</td>\n",
       "      <td>2.415478e+01</td>\n",
       "    </tr>\n",
       "    <tr>\n",
       "      <th>std</th>\n",
       "      <td>1.176652e+00</td>\n",
       "      <td>1.506997e+01</td>\n",
       "      <td>4.895890e+00</td>\n",
       "      <td>9.260031e+01</td>\n",
       "    </tr>\n",
       "    <tr>\n",
       "      <th>min</th>\n",
       "      <td>1.000000e+00</td>\n",
       "      <td>-5.000000e+02</td>\n",
       "      <td>-2.218000e+01</td>\n",
       "      <td>-2.770367e+03</td>\n",
       "    </tr>\n",
       "    <tr>\n",
       "      <th>25%</th>\n",
       "      <td>1.000000e+00</td>\n",
       "      <td>9.000000e+00</td>\n",
       "      <td>1.500000e+00</td>\n",
       "      <td>9.883333e+00</td>\n",
       "    </tr>\n",
       "    <tr>\n",
       "      <th>50%</th>\n",
       "      <td>1.000000e+00</td>\n",
       "      <td>1.300000e+01</td>\n",
       "      <td>2.730000e+00</td>\n",
       "      <td>1.573333e+01</td>\n",
       "    </tr>\n",
       "    <tr>\n",
       "      <th>75%</th>\n",
       "      <td>2.000000e+00</td>\n",
       "      <td>2.100000e+01</td>\n",
       "      <td>5.470000e+00</td>\n",
       "      <td>2.336667e+01</td>\n",
       "    </tr>\n",
       "    <tr>\n",
       "      <th>max</th>\n",
       "      <td>5.000000e+00</td>\n",
       "      <td>4.265000e+03</td>\n",
       "      <td>2.628800e+02</td>\n",
       "      <td>8.525117e+03</td>\n",
       "    </tr>\n",
       "  </tbody>\n",
       "</table>\n",
       "</div>"
      ],
      "text/plain": [
       "       passenger_count   fare_amount  trip_distance      duration\n",
       "count     2.780283e+06  2.780283e+06   2.780283e+06  2.780283e+06\n",
       "mean      1.733386e+00  1.780567e+01   4.536729e+00  2.415478e+01\n",
       "std       1.176652e+00  1.506997e+01   4.895890e+00  9.260031e+01\n",
       "min       1.000000e+00 -5.000000e+02  -2.218000e+01 -2.770367e+03\n",
       "25%       1.000000e+00  9.000000e+00   1.500000e+00  9.883333e+00\n",
       "50%       1.000000e+00  1.300000e+01   2.730000e+00  1.573333e+01\n",
       "75%       2.000000e+00  2.100000e+01   5.470000e+00  2.336667e+01\n",
       "max       5.000000e+00  4.265000e+03   2.628800e+02  8.525117e+03"
      ]
     },
     "execution_count": 31,
     "metadata": {},
     "output_type": "execute_result"
    }
   ],
   "source": [
    "dff.describe()"
   ]
  },
  {
   "cell_type": "code",
   "execution_count": 32,
   "id": "1901426d-2f5d-4555-912c-680c87c62b24",
   "metadata": {},
   "outputs": [],
   "source": [
    "#remove of negative numbers\n",
    "dff=dff[dff['fare_amount']>0]\n",
    "dff=dff[dff['trip_distance']>0]\n",
    "dff=dff[dff['duration']>0]"
   ]
  },
  {
   "cell_type": "code",
   "execution_count": 33,
   "id": "ddd1eae0-f3f1-4dfe-8ead-c8eefe2609e2",
   "metadata": {},
   "outputs": [
    {
     "data": {
      "text/html": [
       "<div>\n",
       "<style scoped>\n",
       "    .dataframe tbody tr th:only-of-type {\n",
       "        vertical-align: middle;\n",
       "    }\n",
       "\n",
       "    .dataframe tbody tr th {\n",
       "        vertical-align: top;\n",
       "    }\n",
       "\n",
       "    .dataframe thead th {\n",
       "        text-align: right;\n",
       "    }\n",
       "</style>\n",
       "<table border=\"1\" class=\"dataframe\">\n",
       "  <thead>\n",
       "    <tr style=\"text-align: right;\">\n",
       "      <th></th>\n",
       "      <th>passenger_count</th>\n",
       "      <th>fare_amount</th>\n",
       "      <th>trip_distance</th>\n",
       "      <th>duration</th>\n",
       "    </tr>\n",
       "  </thead>\n",
       "  <tbody>\n",
       "    <tr>\n",
       "      <th>count</th>\n",
       "      <td>2.748932e+06</td>\n",
       "      <td>2.748932e+06</td>\n",
       "      <td>2.748932e+06</td>\n",
       "      <td>2.748932e+06</td>\n",
       "    </tr>\n",
       "    <tr>\n",
       "      <th>mean</th>\n",
       "      <td>1.738151e+00</td>\n",
       "      <td>1.766835e+01</td>\n",
       "      <td>4.583313e+00</td>\n",
       "      <td>2.418261e+01</td>\n",
       "    </tr>\n",
       "    <tr>\n",
       "      <th>std</th>\n",
       "      <td>1.179440e+00</td>\n",
       "      <td>1.447531e+01</td>\n",
       "      <td>4.897806e+00</td>\n",
       "      <td>9.272285e+01</td>\n",
       "    </tr>\n",
       "    <tr>\n",
       "      <th>min</th>\n",
       "      <td>1.000000e+00</td>\n",
       "      <td>1.000000e-02</td>\n",
       "      <td>1.000000e-02</td>\n",
       "      <td>1.666667e-02</td>\n",
       "    </tr>\n",
       "    <tr>\n",
       "      <th>25%</th>\n",
       "      <td>1.000000e+00</td>\n",
       "      <td>9.000000e+00</td>\n",
       "      <td>1.530000e+00</td>\n",
       "      <td>9.950000e+00</td>\n",
       "    </tr>\n",
       "    <tr>\n",
       "      <th>50%</th>\n",
       "      <td>1.000000e+00</td>\n",
       "      <td>1.300000e+01</td>\n",
       "      <td>2.770000e+00</td>\n",
       "      <td>1.575000e+01</td>\n",
       "    </tr>\n",
       "    <tr>\n",
       "      <th>75%</th>\n",
       "      <td>2.000000e+00</td>\n",
       "      <td>2.100000e+01</td>\n",
       "      <td>5.500000e+00</td>\n",
       "      <td>2.333333e+01</td>\n",
       "    </tr>\n",
       "    <tr>\n",
       "      <th>max</th>\n",
       "      <td>5.000000e+00</td>\n",
       "      <td>4.265000e+03</td>\n",
       "      <td>2.628800e+02</td>\n",
       "      <td>8.525117e+03</td>\n",
       "    </tr>\n",
       "  </tbody>\n",
       "</table>\n",
       "</div>"
      ],
      "text/plain": [
       "       passenger_count   fare_amount  trip_distance      duration\n",
       "count     2.748932e+06  2.748932e+06   2.748932e+06  2.748932e+06\n",
       "mean      1.738151e+00  1.766835e+01   4.583313e+00  2.418261e+01\n",
       "std       1.179440e+00  1.447531e+01   4.897806e+00  9.272285e+01\n",
       "min       1.000000e+00  1.000000e-02   1.000000e-02  1.666667e-02\n",
       "25%       1.000000e+00  9.000000e+00   1.530000e+00  9.950000e+00\n",
       "50%       1.000000e+00  1.300000e+01   2.770000e+00  1.575000e+01\n",
       "75%       2.000000e+00  2.100000e+01   5.500000e+00  2.333333e+01\n",
       "max       5.000000e+00  4.265000e+03   2.628800e+02  8.525117e+03"
      ]
     },
     "execution_count": 33,
     "metadata": {},
     "output_type": "execute_result"
    }
   ],
   "source": [
    "dff.describe()"
   ]
  },
  {
   "cell_type": "code",
   "execution_count": 34,
   "id": "ea308938-84a4-4146-a06d-2d7ed2822c05",
   "metadata": {},
   "outputs": [
    {
     "data": {
      "text/plain": [
       "{'whiskers': [<matplotlib.lines.Line2D at 0x223864a99a0>,\n",
       "  <matplotlib.lines.Line2D at 0x2238646db20>],\n",
       " 'caps': [<matplotlib.lines.Line2D at 0x2238646dd90>,\n",
       "  <matplotlib.lines.Line2D at 0x2238646e090>],\n",
       " 'boxes': [<matplotlib.lines.Line2D at 0x223ddf67aa0>],\n",
       " 'medians': [<matplotlib.lines.Line2D at 0x2238646e390>],\n",
       " 'fliers': [<matplotlib.lines.Line2D at 0x2238646e660>],\n",
       " 'means': []}"
      ]
     },
     "execution_count": 34,
     "metadata": {},
     "output_type": "execute_result"
    },
    {
     "data": {
      "image/png": "[encoded data removed]",
      "text/plain": [
       "<Figure size 640x480 with 1 Axes>"
      ]
     },
     "metadata": {},
     "output_type": "display_data"
    }
   ],
   "source": [
    "# checking for outliers\n",
    "plt.boxplot(dff['fare_amount'])"
   ]
  },
  {
   "cell_type": "code",
   "execution_count": 35,
   "id": "b75878ff-b34e-4f28-96fe-ae020ab659f2",
   "metadata": {},
   "outputs": [],
   "source": [
    "for col in['fare_amount','trip_distance','duration']:\n",
    "    q1=dff[col].quantile(0.25)\n",
    "    q3=dff[col].quantile(0.75)\n",
    "    IQR=q3-q1\n",
    "    lower_bound=q1 - 1.5 * IQR\n",
    "    upper_bound=q3 + 1.5 * IQR\n",
    "\n",
    "    \n",
    "    dff=dff[(dff[col]>=lower_bound)&(dff[col]<=upper_bound)]"
   ]
  },
  {
   "cell_type": "code",
   "execution_count": 36,
   "id": "34cb4071-827b-4aa5-9708-2ea23689c761",
   "metadata": {},
   "outputs": [
    {
     "data": {
      "text/html": [
       "<div>\n",
       "<style scoped>\n",
       "    .dataframe tbody tr th:only-of-type {\n",
       "        vertical-align: middle;\n",
       "    }\n",
       "\n",
       "    .dataframe tbody tr th {\n",
       "        vertical-align: top;\n",
       "    }\n",
       "\n",
       "    .dataframe thead th {\n",
       "        text-align: right;\n",
       "    }\n",
       "</style>\n",
       "<table border=\"1\" class=\"dataframe\">\n",
       "  <thead>\n",
       "    <tr style=\"text-align: right;\">\n",
       "      <th></th>\n",
       "      <th>passenger_count</th>\n",
       "      <th>payment_type</th>\n",
       "      <th>fare_amount</th>\n",
       "      <th>trip_distance</th>\n",
       "      <th>duration</th>\n",
       "    </tr>\n",
       "  </thead>\n",
       "  <tbody>\n",
       "    <tr>\n",
       "      <th>0</th>\n",
       "      <td>1.0</td>\n",
       "      <td>Card</td>\n",
       "      <td>6.0</td>\n",
       "      <td>1.20</td>\n",
       "      <td>4.800000</td>\n",
       "    </tr>\n",
       "    <tr>\n",
       "      <th>1</th>\n",
       "      <td>1.0</td>\n",
       "      <td>Card</td>\n",
       "      <td>7.0</td>\n",
       "      <td>1.20</td>\n",
       "      <td>7.416667</td>\n",
       "    </tr>\n",
       "    <tr>\n",
       "      <th>2</th>\n",
       "      <td>1.0</td>\n",
       "      <td>Card</td>\n",
       "      <td>6.0</td>\n",
       "      <td>0.60</td>\n",
       "      <td>6.183333</td>\n",
       "    </tr>\n",
       "    <tr>\n",
       "      <th>3</th>\n",
       "      <td>1.0</td>\n",
       "      <td>Card</td>\n",
       "      <td>5.5</td>\n",
       "      <td>0.80</td>\n",
       "      <td>4.850000</td>\n",
       "    </tr>\n",
       "    <tr>\n",
       "      <th>5</th>\n",
       "      <td>1.0</td>\n",
       "      <td>Cash</td>\n",
       "      <td>2.5</td>\n",
       "      <td>0.03</td>\n",
       "      <td>0.883333</td>\n",
       "    </tr>\n",
       "    <tr>\n",
       "      <th>...</th>\n",
       "      <td>...</td>\n",
       "      <td>...</td>\n",
       "      <td>...</td>\n",
       "      <td>...</td>\n",
       "      <td>...</td>\n",
       "    </tr>\n",
       "    <tr>\n",
       "      <th>6339550</th>\n",
       "      <td>4.0</td>\n",
       "      <td>Card</td>\n",
       "      <td>10.5</td>\n",
       "      <td>2.40</td>\n",
       "      <td>12.383333</td>\n",
       "    </tr>\n",
       "    <tr>\n",
       "      <th>6339555</th>\n",
       "      <td>3.0</td>\n",
       "      <td>Card</td>\n",
       "      <td>10.0</td>\n",
       "      <td>2.09</td>\n",
       "      <td>14.800000</td>\n",
       "    </tr>\n",
       "    <tr>\n",
       "      <th>6339561</th>\n",
       "      <td>1.0</td>\n",
       "      <td>Card</td>\n",
       "      <td>17.5</td>\n",
       "      <td>4.11</td>\n",
       "      <td>21.500000</td>\n",
       "    </tr>\n",
       "    <tr>\n",
       "      <th>6339563</th>\n",
       "      <td>1.0</td>\n",
       "      <td>Card</td>\n",
       "      <td>13.0</td>\n",
       "      <td>2.13</td>\n",
       "      <td>19.000000</td>\n",
       "    </tr>\n",
       "    <tr>\n",
       "      <th>6339564</th>\n",
       "      <td>1.0</td>\n",
       "      <td>Card</td>\n",
       "      <td>12.5</td>\n",
       "      <td>2.55</td>\n",
       "      <td>16.283333</td>\n",
       "    </tr>\n",
       "  </tbody>\n",
       "</table>\n",
       "<p>2297908 rows × 5 columns</p>\n",
       "</div>"
      ],
      "text/plain": [
       "         passenger_count payment_type  fare_amount  trip_distance   duration\n",
       "0                    1.0         Card          6.0           1.20   4.800000\n",
       "1                    1.0         Card          7.0           1.20   7.416667\n",
       "2                    1.0         Card          6.0           0.60   6.183333\n",
       "3                    1.0         Card          5.5           0.80   4.850000\n",
       "5                    1.0         Cash          2.5           0.03   0.883333\n",
       "...                  ...          ...          ...            ...        ...\n",
       "6339550              4.0         Card         10.5           2.40  12.383333\n",
       "6339555              3.0         Card         10.0           2.09  14.800000\n",
       "6339561              1.0         Card         17.5           4.11  21.500000\n",
       "6339563              1.0         Card         13.0           2.13  19.000000\n",
       "6339564              1.0         Card         12.5           2.55  16.283333\n",
       "\n",
       "[2297908 rows x 5 columns]"
      ]
     },
     "execution_count": 36,
     "metadata": {},
     "output_type": "execute_result"
    }
   ],
   "source": [
    "dff"
   ]
  },
  {
   "cell_type": "code",
   "execution_count": 37,
   "id": "60152c24-2d82-411d-a332-ca0ccf20b4a3",
   "metadata": {},
   "outputs": [
    {
     "data": {
      "image/png": "[encoded data removed]",
      "text/plain": [
       "<Figure size 1200x400 with 2 Axes>"
      ]
     },
     "metadata": {},
     "output_type": "display_data"
    }
   ],
   "source": [
    "#data distribution in fare_amount and payment_type\n",
    "plt.figure(figsize=(12,4))\n",
    "plt.subplot(1,2,1)\n",
    "plt.title('Distribution of fare amount')\n",
    "#card payment\n",
    "plt.hist(dff[dff['payment_type']=='Card']['fare_amount'],histtype='barstacked',bins=20,edgecolor='k',color='#FA643F',label='Card')\n",
    "#cash payment\n",
    "plt.hist(dff[dff['payment_type']=='Cash']['fare_amount'],histtype='barstacked',bins=20,edgecolor='k',color='#FFBCAB',label='Cash')\n",
    "plt.legend()\n",
    "\n",
    "#distribution of trip distance\n",
    "plt.subplot(1,2,2)\n",
    "plt.title('Distribution of trip distance')\n",
    "#card payment\n",
    "plt.hist(dff[dff['payment_type']=='Card']['trip_distance'],histtype='barstacked',bins=20,edgecolor='k',color='#FA643F',label='Card')\n",
    "#cash payment\n",
    "plt.hist(dff[dff['payment_type']=='Cash']['trip_distance'],histtype='barstacked',bins=20,edgecolor='k',color='#FFBCAB',label='Cash')\n",
    "\n",
    "plt.legend()\n",
    "plt.show()"
   ]
  },
  {
   "cell_type": "code",
   "execution_count": 38,
   "id": "e9d0e554-843b-47d2-8b64-09fe43b24439",
   "metadata": {},
   "outputs": [
    {
     "data": {
      "text/html": [
       "<div>\n",
       "<style scoped>\n",
       "    .dataframe tbody tr th:only-of-type {\n",
       "        vertical-align: middle;\n",
       "    }\n",
       "\n",
       "    .dataframe tbody tr th {\n",
       "        vertical-align: top;\n",
       "    }\n",
       "\n",
       "    .dataframe thead tr th {\n",
       "        text-align: left;\n",
       "    }\n",
       "\n",
       "    .dataframe thead tr:last-of-type th {\n",
       "        text-align: right;\n",
       "    }\n",
       "</style>\n",
       "<table border=\"1\" class=\"dataframe\">\n",
       "  <thead>\n",
       "    <tr>\n",
       "      <th></th>\n",
       "      <th colspan=\"2\" halign=\"left\">fare_amount</th>\n",
       "      <th colspan=\"2\" halign=\"left\">trip_distance</th>\n",
       "    </tr>\n",
       "    <tr>\n",
       "      <th></th>\n",
       "      <th>mean</th>\n",
       "      <th>std</th>\n",
       "      <th>mean</th>\n",
       "      <th>std</th>\n",
       "    </tr>\n",
       "    <tr>\n",
       "      <th>payment_type</th>\n",
       "      <th></th>\n",
       "      <th></th>\n",
       "      <th></th>\n",
       "      <th></th>\n",
       "    </tr>\n",
       "  </thead>\n",
       "  <tbody>\n",
       "    <tr>\n",
       "      <th>Card</th>\n",
       "      <td>13.112493</td>\n",
       "      <td>5.849281</td>\n",
       "      <td>2.992237</td>\n",
       "      <td>1.99274</td>\n",
       "    </tr>\n",
       "    <tr>\n",
       "      <th>Cash</th>\n",
       "      <td>11.758005</td>\n",
       "      <td>5.613038</td>\n",
       "      <td>2.602207</td>\n",
       "      <td>1.91372</td>\n",
       "    </tr>\n",
       "  </tbody>\n",
       "</table>\n",
       "</div>"
      ],
      "text/plain": [
       "             fare_amount           trip_distance         \n",
       "                    mean       std          mean      std\n",
       "payment_type                                             \n",
       "Card           13.112493  5.849281      2.992237  1.99274\n",
       "Cash           11.758005  5.613038      2.602207  1.91372"
      ]
     },
     "execution_count": 38,
     "metadata": {},
     "output_type": "execute_result"
    }
   ],
   "source": [
    "dff.groupby('payment_type').agg({'fare_amount':['mean','std'],'trip_distance':['mean','std']})"
   ]
  },
  {
   "cell_type": "code",
   "execution_count": 39,
   "id": "3fc8b8e3-b57e-4fe4-9e45-a59ca487128a",
   "metadata": {},
   "outputs": [
    {
     "data": {
      "image/png": "[encoded data removed]",
      "text/plain": [
       "<Figure size 640x480 with 1 Axes>"
      ]
     },
     "metadata": {},
     "output_type": "display_data"
    }
   ],
   "source": [
    "plt.title('preference of payment type')\n",
    "plt.pie(dff['payment_type'].value_counts(normalize=True),labels=dff['payment_type'].value_counts().index,\n",
    "       startangle=90,shadow=True,autopct='%1.1f%%',colors=['#FA643F','#FFBACB'])\n",
    "plt.show()"
   ]
  },
  {
   "cell_type": "code",
   "execution_count": 40,
   "id": "8c1594e9-0cbf-4baf-bb59-68a0ba6e2cb6",
   "metadata": {},
   "outputs": [],
   "source": [
    "passenger_count=dff.groupby(['payment_type','passenger_count'])[['passenger_count']].count()\n",
    "passenger_count.rename(columns={'passenger_count':'count'},inplace=True)\n",
    "passenger_count.reset_index(inplace=True)"
   ]
  },
  {
   "cell_type": "code",
   "execution_count": 41,
   "id": "91eaaf58-e8ae-4358-a1af-1445dcc02b46",
   "metadata": {},
   "outputs": [],
   "source": [
    "passenger_count['perc']=(passenger_count['count']/passenger_count['count'].sum())*100"
   ]
  },
  {
   "cell_type": "code",
   "execution_count": 42,
   "id": "3378d037-8a94-4cc6-a03d-00e9d3802961",
   "metadata": {},
   "outputs": [
    {
     "data": {
      "text/html": [
       "<div>\n",
       "<style scoped>\n",
       "    .dataframe tbody tr th:only-of-type {\n",
       "        vertical-align: middle;\n",
       "    }\n",
       "\n",
       "    .dataframe tbody tr th {\n",
       "        vertical-align: top;\n",
       "    }\n",
       "\n",
       "    .dataframe thead th {\n",
       "        text-align: right;\n",
       "    }\n",
       "</style>\n",
       "<table border=\"1\" class=\"dataframe\">\n",
       "  <thead>\n",
       "    <tr style=\"text-align: right;\">\n",
       "      <th></th>\n",
       "      <th>payment_type</th>\n",
       "      <th>passenger_count</th>\n",
       "      <th>count</th>\n",
       "      <th>perc</th>\n",
       "    </tr>\n",
       "  </thead>\n",
       "  <tbody>\n",
       "    <tr>\n",
       "      <th>0</th>\n",
       "      <td>Card</td>\n",
       "      <td>1.0</td>\n",
       "      <td>909245</td>\n",
       "      <td>39.568381</td>\n",
       "    </tr>\n",
       "    <tr>\n",
       "      <th>1</th>\n",
       "      <td>Card</td>\n",
       "      <td>2.0</td>\n",
       "      <td>327661</td>\n",
       "      <td>14.259100</td>\n",
       "    </tr>\n",
       "    <tr>\n",
       "      <th>2</th>\n",
       "      <td>Card</td>\n",
       "      <td>3.0</td>\n",
       "      <td>122412</td>\n",
       "      <td>5.327106</td>\n",
       "    </tr>\n",
       "    <tr>\n",
       "      <th>3</th>\n",
       "      <td>Card</td>\n",
       "      <td>4.0</td>\n",
       "      <td>63676</td>\n",
       "      <td>2.771042</td>\n",
       "    </tr>\n",
       "    <tr>\n",
       "      <th>4</th>\n",
       "      <td>Card</td>\n",
       "      <td>5.0</td>\n",
       "      <td>124045</td>\n",
       "      <td>5.398171</td>\n",
       "    </tr>\n",
       "    <tr>\n",
       "      <th>5</th>\n",
       "      <td>Cash</td>\n",
       "      <td>1.0</td>\n",
       "      <td>460550</td>\n",
       "      <td>20.042143</td>\n",
       "    </tr>\n",
       "    <tr>\n",
       "      <th>6</th>\n",
       "      <td>Cash</td>\n",
       "      <td>2.0</td>\n",
       "      <td>155472</td>\n",
       "      <td>6.765806</td>\n",
       "    </tr>\n",
       "    <tr>\n",
       "      <th>7</th>\n",
       "      <td>Cash</td>\n",
       "      <td>3.0</td>\n",
       "      <td>54506</td>\n",
       "      <td>2.371984</td>\n",
       "    </tr>\n",
       "    <tr>\n",
       "      <th>8</th>\n",
       "      <td>Cash</td>\n",
       "      <td>4.0</td>\n",
       "      <td>32715</td>\n",
       "      <td>1.423686</td>\n",
       "    </tr>\n",
       "    <tr>\n",
       "      <th>9</th>\n",
       "      <td>Cash</td>\n",
       "      <td>5.0</td>\n",
       "      <td>47626</td>\n",
       "      <td>2.072581</td>\n",
       "    </tr>\n",
       "  </tbody>\n",
       "</table>\n",
       "</div>"
      ],
      "text/plain": [
       "  payment_type  passenger_count   count       perc\n",
       "0         Card              1.0  909245  39.568381\n",
       "1         Card              2.0  327661  14.259100\n",
       "2         Card              3.0  122412   5.327106\n",
       "3         Card              4.0   63676   2.771042\n",
       "4         Card              5.0  124045   5.398171\n",
       "5         Cash              1.0  460550  20.042143\n",
       "6         Cash              2.0  155472   6.765806\n",
       "7         Cash              3.0   54506   2.371984\n",
       "8         Cash              4.0   32715   1.423686\n",
       "9         Cash              5.0   47626   2.072581"
      ]
     },
     "execution_count": 42,
     "metadata": {},
     "output_type": "execute_result"
    }
   ],
   "source": [
    "passenger_count"
   ]
  },
  {
   "cell_type": "code",
   "execution_count": 53,
   "id": "996665a0-18f7-44e7-9f7e-a46ab16cd33f",
   "metadata": {},
   "outputs": [
    {
     "data": {
      "text/html": [
       "<div>\n",
       "<style scoped>\n",
       "    .dataframe tbody tr th:only-of-type {\n",
       "        vertical-align: middle;\n",
       "    }\n",
       "\n",
       "    .dataframe tbody tr th {\n",
       "        vertical-align: top;\n",
       "    }\n",
       "\n",
       "    .dataframe thead th {\n",
       "        text-align: right;\n",
       "    }\n",
       "</style>\n",
       "<table border=\"1\" class=\"dataframe\">\n",
       "  <thead>\n",
       "    <tr style=\"text-align: right;\">\n",
       "      <th></th>\n",
       "      <th>payment_type</th>\n",
       "      <th>1</th>\n",
       "      <th>2</th>\n",
       "      <th>3</th>\n",
       "      <th>4</th>\n",
       "      <th>5</th>\n",
       "    </tr>\n",
       "  </thead>\n",
       "  <tbody>\n",
       "    <tr>\n",
       "      <th>0</th>\n",
       "      <td>Card</td>\n",
       "      <td>39.568381</td>\n",
       "      <td>14.2591</td>\n",
       "      <td>5.327106</td>\n",
       "      <td>2.771042</td>\n",
       "      <td>5.398171</td>\n",
       "    </tr>\n",
       "    <tr>\n",
       "      <th>1</th>\n",
       "      <td>Cash</td>\n",
       "      <td>20.042143</td>\n",
       "      <td>6.765806</td>\n",
       "      <td>2.371984</td>\n",
       "      <td>1.423686</td>\n",
       "      <td>2.072581</td>\n",
       "    </tr>\n",
       "  </tbody>\n",
       "</table>\n",
       "</div>"
      ],
      "text/plain": [
       "  payment_type          1         2         3         4         5\n",
       "0         Card  39.568381   14.2591  5.327106  2.771042  5.398171\n",
       "1         Cash  20.042143  6.765806  2.371984  1.423686  2.072581"
      ]
     },
     "execution_count": 53,
     "metadata": {},
     "output_type": "execute_result"
    }
   ],
   "source": [
    "dff=pd.DataFrame(columns=['payment_type',1,2,3,4,5])\n",
    "dff['payment_type']=['Card','Cash']\n",
    "dff.iloc[0,1::]=passenger_count.iloc[0:5,-1]\n",
    "dff.iloc[1,1:]=passenger_count.iloc[5:,-1]\n",
    "dff"
   ]
  },
  {
   "cell_type": "code",
   "execution_count": 57,
   "id": "66a1a1a6-92e4-431a-b4dc-96209b451f2b",
   "metadata": {},
   "outputs": [
    {
     "data": {
      "image/png": "[encoded data removed]",
      "text/plain": [
       "<Figure size 2000x600 with 1 Axes>"
      ]
     },
     "metadata": {},
     "output_type": "display_data"
    }
   ],
   "source": [
    "fig,ax=plt.subplots(figsize=(20,6))\n",
    "dff.plot(x='payment_type',kind='barh',ax=ax,stacked=True,color=['#FA643F','#FFBCAB','#CBB2B2','#F1F1F1','#FD9F9F'])\n",
    "\n",
    "#Add pecentage text\n",
    "for p in ax.patches:\n",
    "    width=p.get_width()\n",
    "    height=p.get_height()\n",
    "    x,y=p.get_xy()\n",
    "    ax.text(x+width/2,\n",
    "            y+height/2,\n",
    "           '{:.0f}%'.format(width),\n",
    "           horizontalalignment='center',\n",
    "           verticalalignment='center')"
   ]
  },
  {
   "cell_type": "markdown",
   "id": "2503d70a-e60c-46b6-967c-953abcb3af05",
   "metadata": {},
   "source": [
    "null hypothesis:There is no difference in average fare between customer who use credit cards and customer who use cash.\n",
    "Alternative hypothesis:There is difference in average fare between customer who use credit cards and customer who use cash."
   ]
  },
  {
   "cell_type": "code",
   "execution_count": 43,
   "id": "f166be20-96d3-41f5-95c9-346613818045",
   "metadata": {},
   "outputs": [
    {
     "data": {
      "image/png": "[encoded data removed]",
      "text/plain": [
       "<Figure size 640x480 with 1 Axes>"
      ]
     },
     "metadata": {},
     "output_type": "display_data"
    }
   ],
   "source": [
    "sm.qqplot(dff['fare_amount'],line='45')\n",
    "plt.show()"
   ]
  },
  {
   "cell_type": "code",
   "execution_count": 50,
   "id": "ce317b3d-49c0-4a46-9fbc-ffea077f1bd1",
   "metadata": {},
   "outputs": [],
   "source": [
    "card_sample=dff[dff['payment_type']=='Card']['fare_amount']\n",
    "cash_sample=dff[dff['payment_type']=='Cash']['fare_amount']"
   ]
  },
  {
   "cell_type": "code",
   "execution_count": 51,
   "id": "87b32e3a-fd8b-4e6a-a7a6-c8714eb838b5",
   "metadata": {},
   "outputs": [
    {
     "name": "stdout",
     "output_type": "stream",
     "text": [
      "T statistic 169.2111527245052 p_value 0.0\n"
     ]
    }
   ],
   "source": [
    "t_stats,p_value=st.ttest_ind(a=card_sample,b=cash_sample,equal_var=False)\n",
    "print('T statistic',t_stats,'p_value',p_value)"
   ]
  },
  {
   "cell_type": "markdown",
   "id": "96f6bfc2-193c-48ae-80aa-b586f21216f2",
   "metadata": {},
   "source": [
    "with a T-statistics of 165.5 and a P-value of less than 0.05,we reject the null hypothesis,sugesting that there is indeed a sgingificant difference in avverae fare between two methods."
   ]
  },
  {
   "cell_type": "markdown",
   "id": "087ae4dc-4d3c-4592-9214-12d22590bf95",
   "metadata": {},
   "source": [
    "### Recommendations"
   ]
  },
  {
   "cell_type": "markdown",
   "id": "110e5265-64c4-45d7-b974-011fe035e7cf",
   "metadata": {},
   "source": [
    "Encouage customers to pay with cards to cpaitalize on the potential for generating more revenue for taxi cab drvers"
   ]
  },
  {
   "cell_type": "markdown",
   "id": "b5c85cda-dcd5-45a6-8b56-92088fe0dc45",
   "metadata": {},
   "source": [
    "Implement statergies such as offering incentives or discounts for credit card transaction to incenivize customers to choose this payment method."
   ]
  },
  {
   "cell_type": "markdown",
   "id": "08b6adf5-d9f7-45d1-bc63-7d2d78470b6a",
   "metadata": {},
   "source": []
  }
 ],
 "metadata": {
  "kernelspec": {
   "display_name": "Python 3 (ipykernel)",
   "language": "python",
   "name": "python3"
  },
  "language_info": {
   "codemirror_mode": {
    "name": "ipython",
    "version": 3
   },
   "file_extension": ".py",
   "mimetype": "text/x-python",
   "name": "python",
   "nbconvert_exporter": "python",
   "pygments_lexer": "ipython3",
   "version": "3.12.5"
  }
 },
 "nbformat": 4,
 "nbformat_minor": 5
}
